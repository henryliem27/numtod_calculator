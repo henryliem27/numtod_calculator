{
  "nbformat": 4,
  "nbformat_minor": 0,
  "metadata": {
    "colab": {
      "provenance": [],
      "authorship_tag": "ABX9TyNTsKduBE+/Ox+GsCjJ8kC3",
      "include_colab_link": true
    },
    "kernelspec": {
      "name": "python3",
      "display_name": "Python 3"
    },
    "language_info": {
      "name": "python"
    }
  },
  "cells": [
    {
      "cell_type": "markdown",
      "metadata": {
        "id": "view-in-github",
        "colab_type": "text"
      },
      "source": [
        "<a href=\"https://colab.research.google.com/github/henryliem27/numtod_calculator/blob/main/Numtod_calculator.ipynb\" target=\"_parent\"><img src=\"https://colab.research.google.com/assets/colab-badge.svg\" alt=\"Open In Colab\"/></a>"
      ]
    },
    {
      "cell_type": "code",
      "execution_count": null,
      "metadata": {
        "id": "izIJt-dJ-l2c"
      },
      "outputs": [],
      "source": []
    },
    {
      "cell_type": "code",
      "source": [
        "def fixed_iteration(x0, y0, iterations=10):\n",
        "    x, y = x0, y0\n",
        "    results = []\n",
        "\n",
        "    for i in range(iterations):\n",
        "        # Update x and y based on the given equations\n",
        "        x_new = (11 + (4 * y) - x) / y\n",
        "        y_new = (4 + x + (4 * y)) / x\n",
        "\n",
        "        x, y = x_new, y_new\n",
        "        # Round x and y to 5 decimal places before appending to results\n",
        "        results.append((i + 1, round(x, 5), round(y, 5)))\n",
        "    return results\n",
        "\n",
        "# Example usage:\n",
        "initial_x = 3\n",
        "initial_y = -12\n",
        "iterations = 5\n",
        "results = fixed_iteration(initial_x, initial_y, iterations)\n",
        "\n",
        "for iteration, x, y in results:\n",
        "    print(f\"Iteration {iteration}: x = {x}, y = {y}\")\n"
      ],
      "metadata": {
        "colab": {
          "base_uri": "https://localhost:8080/"
        },
        "id": "HkxRwdDHEBMs",
        "outputId": "ba6b5dcb-a813-4c00-be2e-54dc490dca80"
      },
      "execution_count": 17,
      "outputs": [
        {
          "output_type": "stream",
          "name": "stdout",
          "text": [
            "Iteration 1: x = 3.33333, y = -13.66667\n",
            "Iteration 2: x = 3.43902, y = -14.2\n",
            "Iteration 3: x = 3.46754, y = -14.35319\n",
            "Iteration 4: x = 3.47521, y = -14.40366\n",
            "Iteration 5: x = 3.47758, y = -14.42776\n"
          ]
        }
      ]
    },
    {
      "cell_type": "code",
      "source": [
        "import numpy as np\n",
        "\n",
        "# ... (rest of your existing code)\n",
        "\n",
        "def jacobian_method(x0, y0, iterations=10, tolerance=1e-6):\n",
        "    x, y = x0, y0\n",
        "    results = []\n",
        "\n",
        "    for i in range(iterations):\n",
        "        # Calculate the Jacobian matrix at the current point\n",
        "        jacobian_matrix = np.array([\n",
        "            [y + 1, x - 4],\n",
        "            [y - 1, x - 4]\n",
        "        ])\n",
        "\n",
        "        # Calculate the function values at the current point\n",
        "        function_values = np.array([f1(x, y), f2(x, y)])\n",
        "\n",
        "        # Solve for delta_x and delta_y\n",
        "        delta_xy = np.linalg.solve(jacobian_matrix, -function_values)\n",
        "\n",
        "        # Update x and y\n",
        "        x_new, y_new = x + delta_xy[0], y + delta_xy[1]\n",
        "\n",
        "        # Check for convergence\n",
        "        if np.linalg.norm(delta_xy) < tolerance:\n",
        "            print(\"Converged within tolerance\")\n",
        "            results.append((i+1, round(x_new, 5), round(y_new, 5)))\n",
        "            break  # Exit the loop if converged\n",
        "\n",
        "        x, y = x_new, y_new\n",
        "        results.append((i+1, round(x, 5), round(y, 5)))\n",
        "    return results\n",
        "\n",
        "\n",
        "# Example Usage:\n",
        "initial_x = 3\n",
        "initial_y = -12\n",
        "iterations = 10\n",
        "tolerance = 1e-5\n",
        "\n",
        "jacobian_results = jacobian_method(initial_x, initial_y, iterations, tolerance)\n",
        "\n",
        "for iteration, x, y in jacobian_results:\n",
        "    print(f\"Iteration {iteration}: x = {x}, y = {y}\")\n"
      ],
      "metadata": {
        "colab": {
          "base_uri": "https://localhost:8080/"
        },
        "id": "Wli_IHk9FusV",
        "outputId": "c411b4fb-2ce7-417c-ed5c-96efd3f484cc"
      },
      "execution_count": 26,
      "outputs": [
        {
          "output_type": "stream",
          "name": "stdout",
          "text": [
            "Converged within tolerance\n",
            "Iteration 1: x = 3.5, y = -13.5\n",
            "Iteration 2: x = 3.5, y = -15.0\n",
            "Iteration 3: x = 3.5, y = -15.0\n"
          ]
        }
      ]
    },
    {
      "cell_type": "code",
      "source": [
        "# prompt: generate a gauss seidel model 3 variable\n",
        "\n",
        "import numpy as np\n",
        "\n",
        "def gauss_seidel(x0, y0, z0, iterations=10, tolerance=1e-6):\n",
        "    x, y, z = x0, y0, z0\n",
        "    results = []\n",
        "\n",
        "    for i in range(iterations):\n",
        "        # Update x, y, and z based on the given equations\n",
        "        # Example equations (replace with your actual equations)\n",
        "        x_new = (3 + y + z) / 4\n",
        "        y_new = (9 + 2 * x_new - z) / 6  # Use updated x_new\n",
        "        z_new = (-6 + x_new - y_new) / 7 #Use updated x_new and y_new\n",
        "\n",
        "        # Check for convergence\n",
        "        if max(abs(x_new - x), abs(y_new - y), abs(z_new -z)) < tolerance:\n",
        "            print(\"Converged within tolerance\")\n",
        "            results.append((i + 1, round(x_new, 5), round(y_new, 5), round(z_new, 5)))\n",
        "            break\n",
        "\n",
        "        x, y, z = x_new, y_new, z_new\n",
        "        results.append((i + 1, round(x, 5), round(y, 5), round(z, 5)))\n",
        "\n",
        "    return results\n",
        "\n",
        "# Example usage\n",
        "initial_x = 0\n",
        "initial_y = 0\n",
        "initial_z = 0\n",
        "iterations = 10\n",
        "tolerance = 1e-6\n",
        "\n",
        "results = gauss_seidel(initial_x, initial_y, initial_z, iterations, tolerance)\n",
        "\n",
        "for iteration, x, y, z in results:\n",
        "    print(f\"Iteration {iteration}: x = {x}, y = {y}, z = {z}\")"
      ],
      "metadata": {
        "colab": {
          "base_uri": "https://localhost:8080/"
        },
        "id": "zf5jEUOXJ78l",
        "outputId": "d7277ec0-6e17-4f88-9a84-8d84341ef24d"
      },
      "execution_count": 32,
      "outputs": [
        {
          "output_type": "stream",
          "name": "stdout",
          "text": [
            "Converged within tolerance\n",
            "Iteration 1: x = 0.75, y = 1.75, z = -1.0\n",
            "Iteration 2: x = 0.9375, y = 1.97917, z = -1.00595\n",
            "Iteration 3: x = 0.9933, y = 1.99876, z = -1.00078\n",
            "Iteration 4: x = 0.9995, y = 1.99996, z = -1.00007\n",
            "Iteration 5: x = 0.99997, y = 2.0, z = -1.0\n",
            "Iteration 6: x = 1.0, y = 2.0, z = -1.0\n",
            "Iteration 7: x = 1.0, y = 2.0, z = -1.0\n"
          ]
        }
      ]
    },
    {
      "cell_type": "code",
      "source": [
        "import numpy as np\n",
        "\n",
        "def gauss_seidel(x0, y0, z0, iterations=10, tolerance=1e-6):\n",
        "    x, y, z = x0, y0, z0\n",
        "    results = []\n",
        "\n",
        "    for i in range(iterations):\n",
        "        # Update x, y, and z based on the given equations\n",
        "        # Example equations (replace with your actual equations)\n",
        "        x_new = (3 + y + z) / 4\n",
        "        y_new = (9 + 2 * x_new - z) / 6  # Use updated x_new\n",
        "        z_new = (-6 + x_new - y_new) / 7 # Use updated x_new and y_new\n",
        "\n",
        "        # Check for convergence\n",
        "        if max(abs(x_new - x), abs(y_new - y), abs(z_new - z)) < tolerance:\n",
        "            print(\"Converged within tolerance\")\n",
        "            results.append((i + 1, round(x_new, 2), round(y_new, 2), round(z_new, 2)))\n",
        "            break\n",
        "\n",
        "        x, y, z = x_new, y_new, z_new\n",
        "        results.append((i + 1, round(x, 2), round(y, 2), round(z, 2)))\n",
        "\n",
        "    return results\n",
        "\n",
        "# Example usage\n",
        "initial_x = 0\n",
        "initial_y = 0\n",
        "initial_z = 0\n",
        "iterations = 10\n",
        "tolerance = 1e-6\n",
        "\n",
        "results = gauss_seidel(initial_x, initial_y, initial_z, iterations, tolerance)\n",
        "\n",
        "for iteration, x, y, z in results:\n",
        "    print(f\"Iteration {iteration}: x = {x}, y = {y}, z = {z}\")\n"
      ],
      "metadata": {
        "colab": {
          "base_uri": "https://localhost:8080/"
        },
        "id": "IxC-9pNQMCRT",
        "outputId": "43d2ca86-d25d-4d2f-f5c1-26fd8cfe0e42"
      },
      "execution_count": 33,
      "outputs": [
        {
          "output_type": "stream",
          "name": "stdout",
          "text": [
            "Converged within tolerance\n",
            "Iteration 1: x = 0.75, y = 1.75, z = -1.0\n",
            "Iteration 2: x = 0.94, y = 1.98, z = -1.01\n",
            "Iteration 3: x = 0.99, y = 2.0, z = -1.0\n",
            "Iteration 4: x = 1.0, y = 2.0, z = -1.0\n",
            "Iteration 5: x = 1.0, y = 2.0, z = -1.0\n",
            "Iteration 6: x = 1.0, y = 2.0, z = -1.0\n",
            "Iteration 7: x = 1.0, y = 2.0, z = -1.0\n"
          ]
        }
      ]
    }
  ]
}